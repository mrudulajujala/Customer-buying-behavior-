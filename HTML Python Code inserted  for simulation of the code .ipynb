{
 "cells": [
  {
   "cell_type": "code",
   "execution_count": null,
   "metadata": {},
   "outputs": [],
   "source": [
    "import pandas as pd\n",
    "import numpy as np\n",
    "from sklearn import preprocessing\n",
    "import matplotlib.pyplot as plt \n",
    "plt.rc(\"font\", size=14)\n",
    "from sklearn.linear_model import LogisticRegression\n",
    "from sklearn.model_selection import train_test_split\n",
    "import seaborn as sns\n",
    "from sklearn.metrics import confusion_matrix,classification_report\n",
    "from sklearn import linear_model\n",
    "import statsmodels.api as sm\n",
    "sns.set(style=\"white\")\n",
    "sns.set(style=\"whitegrid\", color_codes=True)\n",
    "from sklearn.preprocessing import LabelEncoder\n",
    "\n",
    "Ecom_Data=pd.read_csv(\"C:/Users/dell/Downloads/Ecommerce.csv\")\n",
    "Ecom_Data\n",
    "\n",
    "Ecom_Data.keys()\n",
    "\n",
    "Ecom_Data.columns\n",
    "\n",
    "Ecom_Data.shape\n",
    "\n",
    "Ecom_Data.isnull().sum()\n",
    "\n",
    "# creating another data set\n",
    "Ey_Data = Ecom_Data\n",
    "Ey_Data = Ey_Data.fillna(method='pad')\n",
    "Ey_Data.isnull().sum()\n",
    "\n",
    "y=len(Ey_Data.columns)\n",
    "y\n"
   ]
  }
 ],
 "metadata": {
  "kernelspec": {
   "display_name": "Python 3",
   "language": "python",
   "name": "python3"
  },
  "language_info": {
   "codemirror_mode": {
    "name": "ipython",
    "version": 3
   },
   "file_extension": ".py",
   "mimetype": "text/x-python",
   "name": "python",
   "nbconvert_exporter": "python",
   "pygments_lexer": "ipython3",
   "version": "3.7.3"
  }
 },
 "nbformat": 4,
 "nbformat_minor": 2
}
